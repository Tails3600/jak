{
 "cells": [
  {
   "cell_type": "code",
   "execution_count": null,
   "id": "9377e08e-2762-4daf-8e28-0a281590ecb3",
   "metadata": {},
   "outputs": [],
   "source": [
    "print(\"Hell"
   ]
  }
 ],
 "metadata": {
  "kernelspec": {
   "display_name": "Python 3 (ipykernel)",
   "language": "python",
   "name": "python3"
  },
  "language_info": {
   "codemirror_mode": {
    "name": "ipython",
    "version": 3
   },
   "file_extension": ".py",
   "mimetype": "text/x-python",
   "name": "python",
   "nbconvert_exporter": "python",
   "pygments_lexer": "ipython3",
   "version": "3.12.4"
  }
 },
 "nbformat": 4,
 "nbformat_minor": 5
}
